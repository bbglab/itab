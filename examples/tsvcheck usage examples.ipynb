{
 "cells": [
  {
   "cell_type": "markdown",
   "metadata": {},
   "source": [
    "## TSV file with the schema defined as metadata"
   ]
  },
  {
   "cell_type": "code",
   "execution_count": 1,
   "metadata": {
    "collapsed": false
   },
   "outputs": [
    {
     "name": "stdout",
     "output_type": "stream",
     "text": [
      "# \n",
      "# Simple example file\n",
      "# \n",
      "## schema=./simple.itab.schema.tsv\n",
      "DATE\tINTEGER\tFLOAT\n",
      "2015-05-22 10:39:27\t23\t3.4\n",
      "avui\t22.3\t3.4e10\n",
      "2015/05/22 10:39:27\t4\t2.4\n",
      "2012-05-22 10:45:22\t12\t2.5\n"
     ]
    }
   ],
   "source": [
    "%%bash\n",
    "\n",
    "head simple.itab.tsv"
   ]
  },
  {
   "cell_type": "code",
   "execution_count": 2,
   "metadata": {
    "collapsed": false
   },
   "outputs": [
    {
     "name": "stdout",
     "output_type": "stream",
     "text": [
      "\n",
      "[line 6] ERRORS:\n",
      "\t Validation error at line 6 column 2: FLOAT. [value:'3.4' validator:'2.3 < x < 2.6']\n",
      "\n",
      "[line 7] ERRORS:\n",
      "\t Reading error at line 7 column 1: DATE. [value:'avui' reader:'date(x, '%Y-%m-%d %H:%M:%S')']\n",
      "\t Reading error at line 7 column 2: INTEGER. [value:'22.3' reader:'int(x)']\n",
      "\t Validation error at line 7 column 2: FLOAT. [value:'3.4e10' validator:'2.3 < x < 2.6']\n",
      "\n",
      "[line 8] ERRORS:\n",
      "\t Reading error at line 8 column 1: DATE. [value:'2015/05/22 10:39:27' reader:'date(x, '%Y-%m-%d %H:%M:%S')']\n",
      "\t Validation error at line 8 column 1: INTEGER. [value:'4' validator:'x > 10']\n"
     ]
    }
   ],
   "source": [
    "%%bash\n",
    "\n",
    "tsvcheck simple.itab.tsv"
   ]
  },
  {
   "cell_type": "markdown",
   "metadata": {},
   "source": [
    "## TSV file without defined schema as metadata"
   ]
  },
  {
   "cell_type": "code",
   "execution_count": 5,
   "metadata": {
    "collapsed": false
   },
   "outputs": [
    {
     "name": "stdout",
     "output_type": "stream",
     "text": [
      "CHROMOSOME\tPOSITION\tREF\tALT\tSAMPLE\tTYPE\n",
      "1\t99150\tT\tA\tCGP_donor_1397260\tsubs\n",
      "1\t231793\tA\tG\tCGP_donor_1337223\tsubs\n",
      "1\t404447\tC\tT\tCGP_donor_1337236\tsubs\n",
      "1\t559388\tG\tT\tCGP_donor_1397282\tsubs\n",
      "1\t585741\tG\tT\tCGP_donor_1353434\tsubs\n",
      "1\t661926\tG\tA\tCGP_donor_1163904\tsubs\n",
      "1\t717900\tT\tC\tCGP_donor_1234124\tsubs\n",
      "1\t718896\tT\tA\tCGP_donor_1186990\tsubs\n",
      "1\t753461\tC\tT\tCGP_donor_1397086\tsubs\n"
     ]
    }
   ],
   "source": [
    "%%bash\n",
    "\n",
    "head mutations.itab.tsv"
   ]
  },
  {
   "cell_type": "code",
   "execution_count": 6,
   "metadata": {
    "collapsed": false
   },
   "outputs": [
    {
     "name": "stdout",
     "output_type": "stream",
     "text": [
      "\n",
      "[line 16] ERRORS:\n",
      "\t Validation error at line 16 column 0: CHROMOSOME. [value:'chr1' validator:'x in ([str(c) for c in range(1,23)] + ['X', 'Y'])']\n"
     ]
    }
   ],
   "source": [
    "%%bash\n",
    "\n",
    "tsvcheck mutations.itab.tsv --schema=./mutations.itab.schema.tsv"
   ]
  },
  {
   "cell_type": "code",
   "execution_count": null,
   "metadata": {
    "collapsed": true
   },
   "outputs": [],
   "source": []
  }
 ],
 "metadata": {
  "kernelspec": {
   "display_name": "Python 3",
   "language": "python",
   "name": "python3"
  },
  "language_info": {
   "codemirror_mode": {
    "name": "ipython",
    "version": 3
   },
   "file_extension": ".py",
   "mimetype": "text/x-python",
   "name": "python",
   "nbconvert_exporter": "python",
   "pygments_lexer": "ipython3",
   "version": "3.4.3"
  }
 },
 "nbformat": 4,
 "nbformat_minor": 0
}
