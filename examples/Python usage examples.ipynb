{
 "cells": [
  {
   "cell_type": "markdown",
   "metadata": {},
   "source": [
    "# Import itab module"
   ]
  },
  {
   "cell_type": "code",
   "execution_count": 1,
   "metadata": {
    "collapsed": true
   },
   "outputs": [],
   "source": [
    "import itab"
   ]
  },
  {
   "cell_type": "markdown",
   "metadata": {},
   "source": [
    "# Simple example"
   ]
  },
  {
   "cell_type": "markdown",
   "metadata": {},
   "source": [
    "The data file looks like this:"
   ]
  },
  {
   "cell_type": "code",
   "execution_count": 2,
   "metadata": {
    "collapsed": false
   },
   "outputs": [
    {
     "name": "stdout",
     "output_type": "stream",
     "text": [
      "# \n",
      "# Simple example file\n",
      "# \n",
      "## schema=./simple.itab.schema.tsv\n",
      "|----------------------+---------+---------|\n",
      "|  DATE                | INTEGER | FLOAT   |\n",
      "|----------------------+---------+---------|\n",
      "|  2015-05-22 10:39:27 | 23      | 3.4     |\n",
      "|  avui                | 22.3    | 3.4e10  |\n",
      "|  2015/05/22 10:39:27 | 4       | 2.4     |\n",
      "|  2012-05-22 10:45:22 | 12      | 2.5     |\n",
      "|----------------------+---------+---------|\n"
     ]
    }
   ],
   "source": [
    "%%bash\n",
    "head -n +4 simple.itab.tsv\n",
    "tail -n +5 simple.itab.tsv | csvlook -t"
   ]
  },
  {
   "cell_type": "markdown",
   "metadata": {},
   "source": [
    "The schema data file looks like this:"
   ]
  },
  {
   "cell_type": "code",
   "execution_count": 3,
   "metadata": {
    "collapsed": false
   },
   "outputs": [
    {
     "name": "stdout",
     "output_type": "stream",
     "text": [
      "#\n",
      "# This is a simple example of an iTab schema file.\n",
      "#\n",
      "|----------+------------------------------+----------------|\n",
      "|  header  | reader                       | validator      |\n",
      "|----------+------------------------------+----------------|\n",
      "|  DATE    | date(x, '%Y-%m-%d %H:%M:%S') | x.month == 5   |\n",
      "|  INTEGER | int(x)                       | x > 10         |\n",
      "|  FLOAT   | float(x)                     | 2.3 < x < 2.6  |\n",
      "|----------+------------------------------+----------------|\n"
     ]
    }
   ],
   "source": [
    "%%bash\n",
    "head -n +3 simple.itab.schema.tsv\n",
    "tail -n +4 simple.itab.schema.tsv | csvlook -t"
   ]
  },
  {
   "cell_type": "markdown",
   "metadata": {},
   "source": [
    "### Basic reader that returns each row as a list of parsed cell values"
   ]
  },
  {
   "cell_type": "code",
   "execution_count": 4,
   "metadata": {
    "collapsed": false
   },
   "outputs": [
    {
     "name": "stdout",
     "output_type": "stream",
     "text": [
      "\n",
      "Line 6. ERRORS: \n",
      "\tValidation error at line 6 column 2: FLOAT. [value:'3.4' validator:'2.3 < x < 2.6']\n",
      "\n",
      "Line 7. ERRORS: \n",
      "\tReading error at line 7 column 1: DATE. [value:'avui' reader:'date(x, '%Y-%m-%d %H:%M:%S')']\n",
      "\tReading error at line 7 column 2: INTEGER. [value:'22.3' reader:'int(x)']\n",
      "\tValidation error at line 7 column 2: FLOAT. [value:'3.4e10' validator:'2.3 < x < 2.6']\n",
      "\n",
      "Line 8. ERRORS: \n",
      "\tReading error at line 8 column 1: DATE. [value:'2015/05/22 10:39:27' reader:'date(x, '%Y-%m-%d %H:%M:%S')']\n",
      "\tValidation error at line 8 column 1: INTEGER. [value:'4' validator:'x > 10']\n",
      "\n",
      "Line 9. VALUES: \n",
      "\t2012-05-22 10:45:22\t12\t2.5\n"
     ]
    }
   ],
   "source": [
    "reader = itab.reader('simple.itab.tsv')\n",
    "\n",
    "for row, errors in reader:\n",
    "    if len(errors) > 0:\n",
    "        print(\"\\nLine {}. ERRORS: \\n\\t{}\".format(reader.line_num, '\\n\\t'.join(errors)))\n",
    "    else:\n",
    "        print(\"\\nLine {}. VALUES: \\n\\t{}\".format(reader.line_num, '\\t'.join([\"{}\".format(c) for c in row])))"
   ]
  },
  {
   "cell_type": "markdown",
   "metadata": {},
   "source": [
    "### Reader that reaturns each row as a dictionary "
   ]
  },
  {
   "cell_type": "code",
   "execution_count": 5,
   "metadata": {
    "collapsed": false
   },
   "outputs": [
    {
     "name": "stdout",
     "output_type": "stream",
     "text": [
      "\n",
      "Line 9. VALUES: \n",
      "\t{'FLOAT': 2.5, 'DATE': datetime.datetime(2012, 5, 22, 10, 45, 22), 'INTEGER': 12}\n"
     ]
    }
   ],
   "source": [
    "reader = itab.DictReader('simple.itab.tsv')\n",
    "\n",
    "for row, errors in reader:\n",
    "    if len(errors) == 0:\n",
    "        print(\"\\nLine {}. VALUES: \\n\\t{}\".format(reader.line_num, row))"
   ]
  },
  {
   "cell_type": "markdown",
   "metadata": {},
   "source": [
    "## Pass the schema as a python dictionary "
   ]
  },
  {
   "cell_type": "code",
   "execution_count": 6,
   "metadata": {
    "collapsed": false
   },
   "outputs": [
    {
     "name": "stderr",
     "output_type": "stream",
     "text": [
      "WARNING:root:Unknown header 'DATE'\n",
      "WARNING:root:Unknown header 'FLOAT'\n"
     ]
    },
    {
     "name": "stdout",
     "output_type": "stream",
     "text": [
      "\n",
      "Line 6. VALUES: \n",
      "\t{'FLOAT': '3.4', 'DATE': '2015-05-22 10:39:27', 'INTEGER': 23}\n",
      "\n",
      "Line 8. VALUES: \n",
      "\t{'FLOAT': '2.4', 'DATE': '2015/05/22 10:39:27', 'INTEGER': 4}\n",
      "\n",
      "Line 9. VALUES: \n",
      "\t{'FLOAT': '2.5', 'DATE': '2012-05-22 10:45:22', 'INTEGER': 12}\n"
     ]
    }
   ],
   "source": [
    "reader = itab.DictReader('simple.itab.tsv', schema={'fields': {'INTEGER': {'reader': 'int(x)'}}})\n",
    "\n",
    "for row, errors in reader:\n",
    "    if len(errors) == 0:\n",
    "        print(\"\\nLine {}. VALUES: \\n\\t{}\".format(reader.line_num, row))    "
   ]
  },
  {
   "cell_type": "markdown",
   "metadata": {},
   "source": [
    "# Advance example"
   ]
  },
  {
   "cell_type": "markdown",
   "metadata": {},
   "source": [
    "The schema file looks like this:"
   ]
  },
  {
   "cell_type": "code",
   "execution_count": 7,
   "metadata": {
    "collapsed": false
   },
   "outputs": [
    {
     "name": "stdout",
     "output_type": "stream",
     "text": [
      "#\n",
      "# Mutations file schema \n",
      "#\n",
      "|-------------+----------------+----------------------------------------------------|\n",
      "|  header     | reader         | validator                                          |\n",
      "|-------------+----------------+----------------------------------------------------|\n",
      "|  CHROMOSOME | str(x).upper() | x in ([str(c) for c in range(1,23)] + ['X', 'Y'])  |\n",
      "|  POSITION   | int(x)         | x > 0                                              |\n",
      "|  REF        | str(x).upper() | x in \"ACTG\"                                        |\n",
      "|  ALT        | str(x).upper() | x in \"ACTG\"                                        |\n",
      "|  SAMPLE     | str(x)         | match(\"^CGP_donor_[0-9]{7}$\", x)                   |\n",
      "|  TYPE       | str(x).lower() | x in ['subs']                                      |\n",
      "|-------------+----------------+----------------------------------------------------|\n"
     ]
    }
   ],
   "source": [
    "%%bash\n",
    "head -n +3 mutations.itab.schema.tsv\n",
    "tail -n +4 mutations.itab.schema.tsv | csvlook -t"
   ]
  },
  {
   "cell_type": "markdown",
   "metadata": {},
   "source": [
    "And the data file is a standard TSV file without any metadata:"
   ]
  },
  {
   "cell_type": "code",
   "execution_count": 8,
   "metadata": {
    "collapsed": false
   },
   "outputs": [
    {
     "name": "stdout",
     "output_type": "stream",
     "text": [
      "|-------------+----------+-----+-----+-------------------+-------|\n",
      "|  CHROMOSOME | POSITION | REF | ALT | SAMPLE            | TYPE  |\n",
      "|-------------+----------+-----+-----+-------------------+-------|\n",
      "|  1          | 99150    | T   | A   | CGP_donor_1397260 | subs  |\n",
      "|  1          | 231793   | A   | G   | CGP_donor_1337223 | subs  |\n",
      "|  1          | 404447   | C   | T   | CGP_donor_1337236 | subs  |\n",
      "|  1          | 559388   | G   | T   | CGP_donor_1397282 | subs  |\n",
      "|  1          | 585741   | G   | T   | CGP_donor_1353434 | subs  |\n",
      "|  1          | 661926   | G   | A   | CGP_donor_1163904 | subs  |\n",
      "|  1          | 717900   | T   | C   | CGP_donor_1234124 | subs  |\n",
      "|  1          | 718896   | T   | A   | CGP_donor_1186990 | subs  |\n",
      "|  1          | 753461   | C   | T   | CGP_donor_1397086 | subs  |\n",
      "|-------------+----------+-----+-----+-------------------+-------|\n"
     ]
    }
   ],
   "source": [
    "%%bash\n",
    "head mutations.itab.tsv | csvlook -t"
   ]
  },
  {
   "cell_type": "markdown",
   "metadata": {},
   "source": [
    "In this example the tabbulated file is a normal tsv file without any metadata. For this reason we have to provide a valid schema file path or URL when we open the reader. And we will load the result as a pandas dataframe."
   ]
  },
  {
   "cell_type": "code",
   "execution_count": 9,
   "metadata": {
    "collapsed": false
   },
   "outputs": [
    {
     "name": "stdout",
     "output_type": "stream",
     "text": [
      "\n",
      "Line 16. ERRORS: \n",
      "   Validation error at line 16 column 0: CHROMOSOME. [value:'chr1' validator:'x in ([str(c) for c in range(1,23)] + ['X', 'Y'])']\n"
     ]
    },
    {
     "data": {
      "text/html": [
       "<div style=\"max-height:1000px;max-width:1500px;overflow:auto;\">\n",
       "<table border=\"1\" class=\"dataframe\">\n",
       "  <thead>\n",
       "    <tr style=\"text-align: right;\">\n",
       "      <th></th>\n",
       "      <th>ALT</th>\n",
       "      <th>CHROMOSOME</th>\n",
       "      <th>POSITION</th>\n",
       "      <th>REF</th>\n",
       "      <th>SAMPLE</th>\n",
       "      <th>TYPE</th>\n",
       "    </tr>\n",
       "  </thead>\n",
       "  <tbody>\n",
       "    <tr>\n",
       "      <th>0</th>\n",
       "      <td>A</td>\n",
       "      <td>1</td>\n",
       "      <td>99150</td>\n",
       "      <td>T</td>\n",
       "      <td>CGP_donor_1397260</td>\n",
       "      <td>subs</td>\n",
       "    </tr>\n",
       "    <tr>\n",
       "      <th>1</th>\n",
       "      <td>G</td>\n",
       "      <td>1</td>\n",
       "      <td>231793</td>\n",
       "      <td>A</td>\n",
       "      <td>CGP_donor_1337223</td>\n",
       "      <td>subs</td>\n",
       "    </tr>\n",
       "    <tr>\n",
       "      <th>2</th>\n",
       "      <td>T</td>\n",
       "      <td>1</td>\n",
       "      <td>404447</td>\n",
       "      <td>C</td>\n",
       "      <td>CGP_donor_1337236</td>\n",
       "      <td>subs</td>\n",
       "    </tr>\n",
       "    <tr>\n",
       "      <th>3</th>\n",
       "      <td>T</td>\n",
       "      <td>1</td>\n",
       "      <td>559388</td>\n",
       "      <td>G</td>\n",
       "      <td>CGP_donor_1397282</td>\n",
       "      <td>subs</td>\n",
       "    </tr>\n",
       "    <tr>\n",
       "      <th>4</th>\n",
       "      <td>T</td>\n",
       "      <td>1</td>\n",
       "      <td>585741</td>\n",
       "      <td>G</td>\n",
       "      <td>CGP_donor_1353434</td>\n",
       "      <td>subs</td>\n",
       "    </tr>\n",
       "  </tbody>\n",
       "</table>\n",
       "</div>"
      ],
      "text/plain": [
       "  ALT CHROMOSOME  POSITION REF             SAMPLE  TYPE\n",
       "0   A          1     99150   T  CGP_donor_1397260  subs\n",
       "1   G          1    231793   A  CGP_donor_1337223  subs\n",
       "2   T          1    404447   C  CGP_donor_1337236  subs\n",
       "3   T          1    559388   G  CGP_donor_1397282  subs\n",
       "4   T          1    585741   G  CGP_donor_1353434  subs"
      ]
     },
     "execution_count": 9,
     "metadata": {},
     "output_type": "execute_result"
    }
   ],
   "source": [
    "import pandas as pd\n",
    "\n",
    "def load_mutations(file):\n",
    "    reader = itab.DictReader(file, schema='mutations.itab.schema.tsv')\n",
    "    for ix, (row, errors) in enumerate(reader, start=1):\n",
    "      \n",
    "        if len(errors) > 0:\n",
    "            # Manage here the errors of parsing and validation\n",
    "            print(\"\\nLine {}. ERRORS: \\n   {}\".format(reader.line_num, '\\n\\t'.join(errors)))\n",
    "            continue\n",
    "\n",
    "        yield row   \n",
    "        \n",
    "data = pd.DataFrame.from_dict(load_mutations('mutations.itab.tsv'))\n",
    "data.head()"
   ]
  },
  {
   "cell_type": "code",
   "execution_count": 10,
   "metadata": {
    "collapsed": false
   },
   "outputs": [
    {
     "data": {
      "text/plain": [
       "ALT           object\n",
       "CHROMOSOME    object\n",
       "POSITION       int64\n",
       "REF           object\n",
       "SAMPLE        object\n",
       "TYPE          object\n",
       "dtype: object"
      ]
     },
     "execution_count": 10,
     "metadata": {},
     "output_type": "execute_result"
    }
   ],
   "source": [
    "data.dtypes"
   ]
  },
  {
   "cell_type": "code",
   "execution_count": null,
   "metadata": {
    "collapsed": true
   },
   "outputs": [],
   "source": []
  }
 ],
 "metadata": {
  "kernelspec": {
   "display_name": "Python 3",
   "language": "python",
   "name": "python3"
  },
  "language_info": {
   "codemirror_mode": {
    "name": "ipython",
    "version": 3
   },
   "file_extension": ".py",
   "mimetype": "text/x-python",
   "name": "python",
   "nbconvert_exporter": "python",
   "pygments_lexer": "ipython3",
   "version": "3.4.3"
  }
 },
 "nbformat": 4,
 "nbformat_minor": 0
}
