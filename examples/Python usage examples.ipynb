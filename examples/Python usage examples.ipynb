{
 "cells": [
  {
   "cell_type": "markdown",
   "metadata": {},
   "source": [
    "# Import itab module"
   ]
  },
  {
   "cell_type": "code",
   "execution_count": 1,
   "metadata": {
    "collapsed": true
   },
   "outputs": [],
   "source": [
    "import itab"
   ]
  },
  {
   "cell_type": "markdown",
   "metadata": {},
   "source": [
    "# Simple example"
   ]
  },
  {
   "cell_type": "code",
   "execution_count": 2,
   "metadata": {
    "collapsed": false
   },
   "outputs": [
    {
     "name": "stdout",
     "output_type": "stream",
     "text": [
      "# \n",
      "# Simple example file\n",
      "# \n",
      "## schema=./simple.itab.schema.tsv\n",
      "DATE\tINTEGER\tFLOAT\n",
      "2015-05-22 10:39:27\t23\t3.4\n",
      "avui\t22.3\t3.4e10\n",
      "2015/05/22 10:39:27\t4\t2.4\n",
      "2012-05-22 10:45:22\t12\t2.5\n"
     ]
    }
   ],
   "source": [
    "%%bash\n",
    "head simple.itab.tsv"
   ]
  },
  {
   "cell_type": "code",
   "execution_count": 3,
   "metadata": {
    "collapsed": false
   },
   "outputs": [
    {
     "name": "stdout",
     "output_type": "stream",
     "text": [
      "#\n",
      "# This is a simple example of an iTab schema file.\n",
      "#\n",
      "## delimiter = \\t\n",
      "## header_required = True\n",
      "## null_character = \\N\n",
      "## force_order = True\n",
      "HEADER\tNULLABLE\tNULL_VALUE\tPARSER\tVALIDATOR\n",
      "DATE\tTrue\tNone\tdate(x, '%Y-%m-%d %H:%M:%S')\tx.month == 5\n",
      "INTEGER\tFalse\tNone\tint(x)\tx > 10\n",
      "FLOAT\tTrue\tNone\tfloat(x)\t2.3 < x < 2.6\n"
     ]
    }
   ],
   "source": [
    "%%bash\n",
    "cat simple.itab.schema.tsv"
   ]
  },
  {
   "cell_type": "markdown",
   "metadata": {},
   "source": [
    "### Basic reader that returns each row as a list of parsed cell values"
   ]
  },
  {
   "cell_type": "code",
   "execution_count": 4,
   "metadata": {
    "collapsed": false
   },
   "outputs": [
    {
     "name": "stdout",
     "output_type": "stream",
     "text": [
      "\n",
      "Line 6. ERRORS: \n",
      "\tValidation error at line 6 column 2. [value:'3.4' validator:'2.3 < x < 2.6']\n",
      "\n",
      "Line 7. ERRORS: \n",
      "\tParsing error at line 7 column 1. [value:'avui' parser:'date(x, '%Y-%m-%d %H:%M:%S')']\n",
      "\tParsing error at line 7 column 2. [value:'22.3' parser:'int(x)']\n",
      "\tValidation error at line 7 column 2. [value:'3.4e10' validator:'2.3 < x < 2.6']\n",
      "\n",
      "Line 8. ERRORS: \n",
      "\tParsing error at line 8 column 1. [value:'2015/05/22 10:39:27' parser:'date(x, '%Y-%m-%d %H:%M:%S')']\n",
      "\tValidation error at line 8 column 1. [value:'4' validator:'x > 10']\n",
      "\n",
      "Line 9. VALUES: \n",
      "\t2012-05-22 10:45:22\t12\t2.5\n"
     ]
    }
   ],
   "source": [
    "reader = itab.open('simple.itab.tsv')\n",
    "\n",
    "for row, errors in reader:\n",
    "    if len(errors) > 0:\n",
    "        print(\"\\nLine {}. ERRORS: \\n\\t{}\".format(reader.line_num, '\\n\\t'.join(errors)))\n",
    "    else:\n",
    "        print(\"\\nLine {}. VALUES: \\n\\t{}\".format(reader.line_num, '\\t'.join([\"{}\".format(c) for c in row])))"
   ]
  },
  {
   "cell_type": "markdown",
   "metadata": {},
   "source": [
    "### Reader that reaturns each row as a dictionary "
   ]
  },
  {
   "cell_type": "code",
   "execution_count": 5,
   "metadata": {
    "collapsed": false
   },
   "outputs": [
    {
     "name": "stdout",
     "output_type": "stream",
     "text": [
      "\n",
      "Line 9. VALUES: \n",
      "\t{'INTEGER': 12, 'FLOAT': 2.5, 'DATE': datetime.datetime(2012, 5, 22, 10, 45, 22)}\n"
     ]
    }
   ],
   "source": [
    "reader = itab.DictReader('simple.itab.tsv')\n",
    "\n",
    "for row, errors in reader:\n",
    "    if len(errors) == 0:\n",
    "        print(\"\\nLine {}. VALUES: \\n\\t{}\".format(reader.line_num, row))"
   ]
  },
  {
   "cell_type": "markdown",
   "metadata": {},
   "source": [
    "# Advance example"
   ]
  },
  {
   "cell_type": "code",
   "execution_count": 6,
   "metadata": {
    "collapsed": false
   },
   "outputs": [
    {
     "name": "stdout",
     "output_type": "stream",
     "text": [
      "#\n",
      "# Mutations file schema \n",
      "#\n",
      "HEADER\tPARSER\tVALIDATOR\n",
      "CHROMOSOME\tstr(x).upper()\tx in ([str(c) for c in range(1,22)] + ['X', 'Y'])\n",
      "POSITION\tint(x)\tx > 0\n",
      "REF\tstr(x).upper()\tx in \"ACTG\"\n",
      "ALT\tstr(x).upper()\tx in \"ACTG\"\n",
      "SAMPLE\tstr(x)\tmatch(\"^CGP_donor_[0-9]{7}$\", x)\n",
      "TYPE\tstr(x).lower()\tx in ['subs']\n"
     ]
    }
   ],
   "source": [
    "%%bash\n",
    "cat mutations.itab.schema.tsv"
   ]
  },
  {
   "cell_type": "code",
   "execution_count": 7,
   "metadata": {
    "collapsed": false
   },
   "outputs": [
    {
     "name": "stdout",
     "output_type": "stream",
     "text": [
      "CHROMOSOME\tPOSITION\tREF\tALT\tSAMPLE\tTYPE\n",
      "1\t99150\tT\tA\tCGP_donor_1397260\tsubs\n",
      "1\t231793\tA\tG\tCGP_donor_1337223\tsubs\n",
      "1\t404447\tC\tT\tCGP_donor_1337236\tsubs\n",
      "1\t559388\tG\tT\tCGP_donor_1397282\tsubs\n",
      "1\t585741\tG\tT\tCGP_donor_1353434\tsubs\n",
      "1\t661926\tG\tA\tCGP_donor_1163904\tsubs\n",
      "1\t717900\tT\tC\tCGP_donor_1234124\tsubs\n",
      "1\t718896\tT\tA\tCGP_donor_1186990\tsubs\n",
      "1\t753461\tC\tT\tCGP_donor_1397086\tsubs\n"
     ]
    }
   ],
   "source": [
    "%%bash\n",
    "head mutations.itab.tsv"
   ]
  },
  {
   "cell_type": "markdown",
   "metadata": {},
   "source": [
    "In this example the tabbulated file is a normal tsv file without any metadata. For this reason we have to provide a valid file path or URL when we open the reader. And we will load the result as a pandas dataframe."
   ]
  },
  {
   "cell_type": "code",
   "execution_count": 14,
   "metadata": {
    "collapsed": false
   },
   "outputs": [
    {
     "name": "stdout",
     "output_type": "stream",
     "text": [
      "\n",
      "Line 16. ERRORS: \n",
      "\tValidation error at line 16 column 0. [value:'chr1' validator:'x in ([str(c) for c in range(1,22)] + ['X', 'Y'])']\n"
     ]
    },
    {
     "data": {
      "text/html": [
       "<div style=\"max-height:1000px;max-width:1500px;overflow:auto;\">\n",
       "<table border=\"1\" class=\"dataframe\">\n",
       "  <thead>\n",
       "    <tr style=\"text-align: right;\">\n",
       "      <th></th>\n",
       "      <th>ALT</th>\n",
       "      <th>CHROMOSOME</th>\n",
       "      <th>POSITION</th>\n",
       "      <th>REF</th>\n",
       "      <th>SAMPLE</th>\n",
       "      <th>TYPE</th>\n",
       "    </tr>\n",
       "  </thead>\n",
       "  <tbody>\n",
       "    <tr>\n",
       "      <th>0</th>\n",
       "      <td> A</td>\n",
       "      <td> 1</td>\n",
       "      <td>  99150</td>\n",
       "      <td> T</td>\n",
       "      <td> CGP_donor_1397260</td>\n",
       "      <td> subs</td>\n",
       "    </tr>\n",
       "    <tr>\n",
       "      <th>1</th>\n",
       "      <td> G</td>\n",
       "      <td> 1</td>\n",
       "      <td> 231793</td>\n",
       "      <td> A</td>\n",
       "      <td> CGP_donor_1337223</td>\n",
       "      <td> subs</td>\n",
       "    </tr>\n",
       "    <tr>\n",
       "      <th>2</th>\n",
       "      <td> T</td>\n",
       "      <td> 1</td>\n",
       "      <td> 404447</td>\n",
       "      <td> C</td>\n",
       "      <td> CGP_donor_1337236</td>\n",
       "      <td> subs</td>\n",
       "    </tr>\n",
       "    <tr>\n",
       "      <th>3</th>\n",
       "      <td> T</td>\n",
       "      <td> 1</td>\n",
       "      <td> 559388</td>\n",
       "      <td> G</td>\n",
       "      <td> CGP_donor_1397282</td>\n",
       "      <td> subs</td>\n",
       "    </tr>\n",
       "    <tr>\n",
       "      <th>4</th>\n",
       "      <td> T</td>\n",
       "      <td> 1</td>\n",
       "      <td> 585741</td>\n",
       "      <td> G</td>\n",
       "      <td> CGP_donor_1353434</td>\n",
       "      <td> subs</td>\n",
       "    </tr>\n",
       "  </tbody>\n",
       "</table>\n",
       "</div>"
      ],
      "text/plain": [
       "  ALT CHROMOSOME  POSITION REF             SAMPLE  TYPE\n",
       "0   A          1     99150   T  CGP_donor_1397260  subs\n",
       "1   G          1    231793   A  CGP_donor_1337223  subs\n",
       "2   T          1    404447   C  CGP_donor_1337236  subs\n",
       "3   T          1    559388   G  CGP_donor_1397282  subs\n",
       "4   T          1    585741   G  CGP_donor_1353434  subs"
      ]
     },
     "execution_count": 14,
     "metadata": {},
     "output_type": "execute_result"
    }
   ],
   "source": [
    "import pandas as pd\n",
    "\n",
    "def load_mutations(file):\n",
    "    reader = itab.DictReader(file, schema='mutations.itab.schema.tsv')\n",
    "    for ix, (row, errors) in enumerate(reader, start=1):\n",
    "      \n",
    "        if len(errors) > 0:\n",
    "            # Manage here the errors of parsing and validation\n",
    "            print(\"\\nLine {}. ERRORS: \\n\\t{}\".format(reader.line_num, '\\n\\t'.join(errors)))\n",
    "            continue\n",
    "\n",
    "        yield row   \n",
    "        \n",
    "data = pd.DataFrame.from_dict(load_mutations('mutations.itab.tsv'))\n",
    "data.head()"
   ]
  },
  {
   "cell_type": "code",
   "execution_count": null,
   "metadata": {
    "collapsed": true
   },
   "outputs": [],
   "source": []
  }
 ],
 "metadata": {
  "kernelspec": {
   "display_name": "Python 3",
   "language": "python",
   "name": "python3"
  },
  "language_info": {
   "codemirror_mode": {
    "name": "ipython",
    "version": 3
   },
   "file_extension": ".py",
   "mimetype": "text/x-python",
   "name": "python",
   "nbconvert_exporter": "python",
   "pygments_lexer": "ipython3",
   "version": "3.4.3"
  }
 },
 "nbformat": 4,
 "nbformat_minor": 0
}
